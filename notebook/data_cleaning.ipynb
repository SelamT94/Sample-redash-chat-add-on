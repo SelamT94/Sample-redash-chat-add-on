{
 "cells": [
  {
   "cell_type": "code",
   "execution_count": 1,
   "id": "2af4453e-2d49-4e65-b5fa-58c36883cecc",
   "metadata": {},
   "outputs": [],
   "source": [
    "import pandas as pd"
   ]
  },
  {
   "cell_type": "code",
   "execution_count": null,
   "id": "adedbf25-2380-44e1-bc66-03c9737a5bf3",
   "metadata": {},
   "outputs": [],
   "source": [
    "import sys,os\n",
    "sys.path.append(\"../scripts/\")\n",
    "from data_extraction import DataFrameManipulator"
   ]
  },
  {
   "cell_type": "code",
   "execution_count": 11,
   "id": "ed58921d-4fe5-4cf9-9a14-5a2e934b14ca",
   "metadata": {},
   "outputs": [],
   "source": [
    "city_chart  = pd.read_csv('../youtube_data/Cities/Chart data.csv')"
   ]
  },
  {
   "cell_type": "code",
   "execution_count": 12,
   "id": "7f316663-9c30-4f65-b47c-f9898d1505e4",
   "metadata": {},
   "outputs": [
    {
     "data": {
      "text/html": [
       "<div>\n",
       "<style scoped>\n",
       "    .dataframe tbody tr th:only-of-type {\n",
       "        vertical-align: middle;\n",
       "    }\n",
       "\n",
       "    .dataframe tbody tr th {\n",
       "        vertical-align: top;\n",
       "    }\n",
       "\n",
       "    .dataframe thead th {\n",
       "        text-align: right;\n",
       "    }\n",
       "</style>\n",
       "<table border=\"1\" class=\"dataframe\">\n",
       "  <thead>\n",
       "    <tr style=\"text-align: right;\">\n",
       "      <th></th>\n",
       "      <th>Date</th>\n",
       "      <th>Cities</th>\n",
       "      <th>City name</th>\n",
       "      <th>Views</th>\n",
       "    </tr>\n",
       "  </thead>\n",
       "  <tbody>\n",
       "    <tr>\n",
       "      <th>0</th>\n",
       "      <td>2020-06-28</td>\n",
       "      <td>0x164b85cef5ab402d:0x8467b6b037a24d49</td>\n",
       "      <td>Addis Ababa</td>\n",
       "      <td>0</td>\n",
       "    </tr>\n",
       "    <tr>\n",
       "      <th>1</th>\n",
       "      <td>2020-06-29</td>\n",
       "      <td>0x164b85cef5ab402d:0x8467b6b037a24d49</td>\n",
       "      <td>Addis Ababa</td>\n",
       "      <td>0</td>\n",
       "    </tr>\n",
       "    <tr>\n",
       "      <th>2</th>\n",
       "      <td>2020-06-30</td>\n",
       "      <td>0x164b85cef5ab402d:0x8467b6b037a24d49</td>\n",
       "      <td>Addis Ababa</td>\n",
       "      <td>0</td>\n",
       "    </tr>\n",
       "    <tr>\n",
       "      <th>3</th>\n",
       "      <td>2020-07-01</td>\n",
       "      <td>0x164b85cef5ab402d:0x8467b6b037a24d49</td>\n",
       "      <td>Addis Ababa</td>\n",
       "      <td>0</td>\n",
       "    </tr>\n",
       "    <tr>\n",
       "      <th>4</th>\n",
       "      <td>2020-07-02</td>\n",
       "      <td>0x164b85cef5ab402d:0x8467b6b037a24d49</td>\n",
       "      <td>Addis Ababa</td>\n",
       "      <td>0</td>\n",
       "    </tr>\n",
       "    <tr>\n",
       "      <th>5</th>\n",
       "      <td>2020-07-03</td>\n",
       "      <td>0x164b85cef5ab402d:0x8467b6b037a24d49</td>\n",
       "      <td>Addis Ababa</td>\n",
       "      <td>0</td>\n",
       "    </tr>\n",
       "    <tr>\n",
       "      <th>6</th>\n",
       "      <td>2020-07-04</td>\n",
       "      <td>0x164b85cef5ab402d:0x8467b6b037a24d49</td>\n",
       "      <td>Addis Ababa</td>\n",
       "      <td>0</td>\n",
       "    </tr>\n",
       "    <tr>\n",
       "      <th>7</th>\n",
       "      <td>2020-07-05</td>\n",
       "      <td>0x164b85cef5ab402d:0x8467b6b037a24d49</td>\n",
       "      <td>Addis Ababa</td>\n",
       "      <td>0</td>\n",
       "    </tr>\n",
       "    <tr>\n",
       "      <th>8</th>\n",
       "      <td>2020-07-06</td>\n",
       "      <td>0x164b85cef5ab402d:0x8467b6b037a24d49</td>\n",
       "      <td>Addis Ababa</td>\n",
       "      <td>0</td>\n",
       "    </tr>\n",
       "    <tr>\n",
       "      <th>9</th>\n",
       "      <td>2020-07-07</td>\n",
       "      <td>0x164b85cef5ab402d:0x8467b6b037a24d49</td>\n",
       "      <td>Addis Ababa</td>\n",
       "      <td>0</td>\n",
       "    </tr>\n",
       "  </tbody>\n",
       "</table>\n",
       "</div>"
      ],
      "text/plain": [
       "         Date                                 Cities    City name  Views\n",
       "0  2020-06-28  0x164b85cef5ab402d:0x8467b6b037a24d49  Addis Ababa      0\n",
       "1  2020-06-29  0x164b85cef5ab402d:0x8467b6b037a24d49  Addis Ababa      0\n",
       "2  2020-06-30  0x164b85cef5ab402d:0x8467b6b037a24d49  Addis Ababa      0\n",
       "3  2020-07-01  0x164b85cef5ab402d:0x8467b6b037a24d49  Addis Ababa      0\n",
       "4  2020-07-02  0x164b85cef5ab402d:0x8467b6b037a24d49  Addis Ababa      0\n",
       "5  2020-07-03  0x164b85cef5ab402d:0x8467b6b037a24d49  Addis Ababa      0\n",
       "6  2020-07-04  0x164b85cef5ab402d:0x8467b6b037a24d49  Addis Ababa      0\n",
       "7  2020-07-05  0x164b85cef5ab402d:0x8467b6b037a24d49  Addis Ababa      0\n",
       "8  2020-07-06  0x164b85cef5ab402d:0x8467b6b037a24d49  Addis Ababa      0\n",
       "9  2020-07-07  0x164b85cef5ab402d:0x8467b6b037a24d49  Addis Ababa      0"
      ]
     },
     "execution_count": 12,
     "metadata": {},
     "output_type": "execute_result"
    }
   ],
   "source": [
    "city_chart.head(10)"
   ]
  },
  {
   "cell_type": "code",
   "execution_count": 13,
   "id": "427b8c60-d257-4d1a-a8d6-d7bfeb577455",
   "metadata": {},
   "outputs": [
    {
     "data": {
      "text/plain": [
       "(6395, 4)"
      ]
     },
     "execution_count": 13,
     "metadata": {},
     "output_type": "execute_result"
    }
   ],
   "source": [
    "city_chart.shape"
   ]
  },
  {
   "cell_type": "code",
   "execution_count": 8,
   "id": "8ef98752-467b-482e-a54e-f9aee60e270b",
   "metadata": {},
   "outputs": [],
   "source": [
    "new_column_names = {'Cities': 'city_id', 'City name': 'city_name','Date':'date'}"
   ]
  },
  {
   "cell_type": "code",
   "execution_count": 9,
   "id": "5f204594-f297-4673-8d58-94cdadafc69c",
   "metadata": {},
   "outputs": [],
   "source": [
    "city_chart  = rename_columns(city_chart,new_column_names)"
   ]
  },
  {
   "cell_type": "code",
   "execution_count": 10,
   "id": "b81c0cb7-7ebd-4865-932e-11a35e8846b2",
   "metadata": {},
   "outputs": [
    {
     "data": {
      "text/html": [
       "<div>\n",
       "<style scoped>\n",
       "    .dataframe tbody tr th:only-of-type {\n",
       "        vertical-align: middle;\n",
       "    }\n",
       "\n",
       "    .dataframe tbody tr th {\n",
       "        vertical-align: top;\n",
       "    }\n",
       "\n",
       "    .dataframe thead th {\n",
       "        text-align: right;\n",
       "    }\n",
       "</style>\n",
       "<table border=\"1\" class=\"dataframe\">\n",
       "  <thead>\n",
       "    <tr style=\"text-align: right;\">\n",
       "      <th></th>\n",
       "      <th>date</th>\n",
       "      <th>city_id</th>\n",
       "      <th>city_name</th>\n",
       "      <th>Views</th>\n",
       "    </tr>\n",
       "  </thead>\n",
       "  <tbody>\n",
       "    <tr>\n",
       "      <th>0</th>\n",
       "      <td>2020-06-28</td>\n",
       "      <td>0x164b85cef5ab402d:0x8467b6b037a24d49</td>\n",
       "      <td>Addis Ababa</td>\n",
       "      <td>0</td>\n",
       "    </tr>\n",
       "    <tr>\n",
       "      <th>1</th>\n",
       "      <td>2020-06-29</td>\n",
       "      <td>0x164b85cef5ab402d:0x8467b6b037a24d49</td>\n",
       "      <td>Addis Ababa</td>\n",
       "      <td>0</td>\n",
       "    </tr>\n",
       "    <tr>\n",
       "      <th>2</th>\n",
       "      <td>2020-06-30</td>\n",
       "      <td>0x164b85cef5ab402d:0x8467b6b037a24d49</td>\n",
       "      <td>Addis Ababa</td>\n",
       "      <td>0</td>\n",
       "    </tr>\n",
       "    <tr>\n",
       "      <th>3</th>\n",
       "      <td>2020-07-01</td>\n",
       "      <td>0x164b85cef5ab402d:0x8467b6b037a24d49</td>\n",
       "      <td>Addis Ababa</td>\n",
       "      <td>0</td>\n",
       "    </tr>\n",
       "    <tr>\n",
       "      <th>4</th>\n",
       "      <td>2020-07-02</td>\n",
       "      <td>0x164b85cef5ab402d:0x8467b6b037a24d49</td>\n",
       "      <td>Addis Ababa</td>\n",
       "      <td>0</td>\n",
       "    </tr>\n",
       "  </tbody>\n",
       "</table>\n",
       "</div>"
      ],
      "text/plain": [
       "         date                                city_id    city_name  Views\n",
       "0  2020-06-28  0x164b85cef5ab402d:0x8467b6b037a24d49  Addis Ababa      0\n",
       "1  2020-06-29  0x164b85cef5ab402d:0x8467b6b037a24d49  Addis Ababa      0\n",
       "2  2020-06-30  0x164b85cef5ab402d:0x8467b6b037a24d49  Addis Ababa      0\n",
       "3  2020-07-01  0x164b85cef5ab402d:0x8467b6b037a24d49  Addis Ababa      0\n",
       "4  2020-07-02  0x164b85cef5ab402d:0x8467b6b037a24d49  Addis Ababa      0"
      ]
     },
     "execution_count": 10,
     "metadata": {},
     "output_type": "execute_result"
    }
   ],
   "source": [
    "city_chart.head()"
   ]
  },
  {
   "cell_type": "code",
   "execution_count": 14,
   "id": "1cb9d205-57c6-411e-b514-9da6139c16b2",
   "metadata": {},
   "outputs": [],
   "source": [
    "city_chart.to_csv('../data/city_chart',index=False)"
   ]
  },
  {
   "cell_type": "code",
   "execution_count": 33,
   "id": "ad76fc05",
   "metadata": {},
   "outputs": [],
   "source": [
    "city_table = pd.read_csv('../youtube_data/Cities/Table data.csv')"
   ]
  },
  {
   "cell_type": "code",
   "execution_count": 15,
   "id": "95b9c65b-1bf1-4c6b-a995-5c23aede322b",
   "metadata": {},
   "outputs": [
    {
     "data": {
      "text/html": [
       "<div>\n",
       "<style scoped>\n",
       "    .dataframe tbody tr th:only-of-type {\n",
       "        vertical-align: middle;\n",
       "    }\n",
       "\n",
       "    .dataframe tbody tr th {\n",
       "        vertical-align: top;\n",
       "    }\n",
       "\n",
       "    .dataframe thead th {\n",
       "        text-align: right;\n",
       "    }\n",
       "</style>\n",
       "<table border=\"1\" class=\"dataframe\">\n",
       "  <thead>\n",
       "    <tr style=\"text-align: right;\">\n",
       "      <th></th>\n",
       "      <th>Cities</th>\n",
       "      <th>City name</th>\n",
       "      <th>Geography</th>\n",
       "      <th>Geography.1</th>\n",
       "      <th>Views</th>\n",
       "      <th>Watch time (hours)</th>\n",
       "      <th>Average view duration</th>\n",
       "    </tr>\n",
       "  </thead>\n",
       "  <tbody>\n",
       "    <tr>\n",
       "      <th>0</th>\n",
       "      <td>Total</td>\n",
       "      <td>NaN</td>\n",
       "      <td>NaN</td>\n",
       "      <td>NaN</td>\n",
       "      <td>26625</td>\n",
       "      <td>2157.3497</td>\n",
       "      <td>0:04:51</td>\n",
       "    </tr>\n",
       "    <tr>\n",
       "      <th>1</th>\n",
       "      <td>0x164b85cef5ab402d:0x8467b6b037a24d49</td>\n",
       "      <td>Addis Ababa</td>\n",
       "      <td>ET</td>\n",
       "      <td>ET-AA</td>\n",
       "      <td>1252</td>\n",
       "      <td>127.5042</td>\n",
       "      <td>0:06:06</td>\n",
       "    </tr>\n",
       "    <tr>\n",
       "      <th>2</th>\n",
       "      <td>0x487a4d4c5226f5db:0xd9be143804fe6baa</td>\n",
       "      <td>Manchester</td>\n",
       "      <td>GB</td>\n",
       "      <td>GB-ENG</td>\n",
       "      <td>23</td>\n",
       "      <td>0.0402</td>\n",
       "      <td>0:00:06</td>\n",
       "    </tr>\n",
       "    <tr>\n",
       "      <th>3</th>\n",
       "      <td>0x3568eb6de823cd35:0x35d8cb74247108a7</td>\n",
       "      <td>Busan</td>\n",
       "      <td>KR</td>\n",
       "      <td>KR-26</td>\n",
       "      <td>14</td>\n",
       "      <td>0.0354</td>\n",
       "      <td>0:00:09</td>\n",
       "    </tr>\n",
       "    <tr>\n",
       "      <th>4</th>\n",
       "      <td>0x168e8fde9837cabf:0x191f55de7e67db40</td>\n",
       "      <td>Khartoum</td>\n",
       "      <td>SD</td>\n",
       "      <td>SD-KH</td>\n",
       "      <td>12</td>\n",
       "      <td>1.2627</td>\n",
       "      <td>0:06:18</td>\n",
       "    </tr>\n",
       "  </tbody>\n",
       "</table>\n",
       "</div>"
      ],
      "text/plain": [
       "                                  Cities    City name Geography Geography.1  \\\n",
       "0                                  Total          NaN       NaN         NaN   \n",
       "1  0x164b85cef5ab402d:0x8467b6b037a24d49  Addis Ababa        ET       ET-AA   \n",
       "2  0x487a4d4c5226f5db:0xd9be143804fe6baa   Manchester        GB      GB-ENG   \n",
       "3  0x3568eb6de823cd35:0x35d8cb74247108a7        Busan        KR       KR-26   \n",
       "4  0x168e8fde9837cabf:0x191f55de7e67db40     Khartoum        SD       SD-KH   \n",
       "\n",
       "   Views  Watch time (hours) Average view duration  \n",
       "0  26625           2157.3497               0:04:51  \n",
       "1   1252            127.5042               0:06:06  \n",
       "2     23              0.0402               0:00:06  \n",
       "3     14              0.0354               0:00:09  \n",
       "4     12              1.2627               0:06:18  "
      ]
     },
     "execution_count": 15,
     "metadata": {},
     "output_type": "execute_result"
    }
   ],
   "source": [
    "city_table.head()"
   ]
  },
  {
   "cell_type": "code",
   "execution_count": 16,
   "id": "aee74e0b-c66c-4236-baf4-606c7a0282ad",
   "metadata": {},
   "outputs": [],
   "source": [
    "new_column_names = {'Cities': 'city_id','City name': 'city_name','Geography': 'country_code'}"
   ]
  },
  {
   "cell_type": "code",
   "execution_count": 17,
   "id": "a6721eec",
   "metadata": {},
   "outputs": [],
   "source": [
    "data_ext = DataFrameManipulator(city_table)"
   ]
  },
  {
   "cell_type": "code",
   "execution_count": 21,
   "id": "795702a1-9d3a-4355-aaad-ef7fb6fc2158",
   "metadata": {},
   "outputs": [],
   "source": [
    "city_table   = data_ext.rename_columns(city_table,new_column_names)"
   ]
  },
  {
   "cell_type": "code",
   "execution_count": 26,
   "id": "8b3459b3-fa45-4bbd-87f7-dc2f2a26b5c0",
   "metadata": {},
   "outputs": [],
   "source": [
    "rows_to_drop_by_number = [0]\n",
    "city_table = data_ext.drop_rows(city_table, rows_to_drop_by_number, by_index=False)"
   ]
  },
  {
   "cell_type": "code",
   "execution_count": 28,
   "id": "2ccdf77d",
   "metadata": {},
   "outputs": [
    {
     "data": {
      "text/html": [
       "<div>\n",
       "<style scoped>\n",
       "    .dataframe tbody tr th:only-of-type {\n",
       "        vertical-align: middle;\n",
       "    }\n",
       "\n",
       "    .dataframe tbody tr th {\n",
       "        vertical-align: top;\n",
       "    }\n",
       "\n",
       "    .dataframe thead th {\n",
       "        text-align: right;\n",
       "    }\n",
       "</style>\n",
       "<table border=\"1\" class=\"dataframe\">\n",
       "  <thead>\n",
       "    <tr style=\"text-align: right;\">\n",
       "      <th></th>\n",
       "      <th>city_id</th>\n",
       "      <th>city_name</th>\n",
       "      <th>country_code</th>\n",
       "    </tr>\n",
       "  </thead>\n",
       "  <tbody>\n",
       "    <tr>\n",
       "      <th>0</th>\n",
       "      <td>Total</td>\n",
       "      <td>NaN</td>\n",
       "      <td>NaN</td>\n",
       "    </tr>\n",
       "    <tr>\n",
       "      <th>1</th>\n",
       "      <td>0x164b85cef5ab402d:0x8467b6b037a24d49</td>\n",
       "      <td>Addis Ababa</td>\n",
       "      <td>ET</td>\n",
       "    </tr>\n",
       "    <tr>\n",
       "      <th>2</th>\n",
       "      <td>0x487a4d4c5226f5db:0xd9be143804fe6baa</td>\n",
       "      <td>Manchester</td>\n",
       "      <td>GB</td>\n",
       "    </tr>\n",
       "    <tr>\n",
       "      <th>3</th>\n",
       "      <td>0x3568eb6de823cd35:0x35d8cb74247108a7</td>\n",
       "      <td>Busan</td>\n",
       "      <td>KR</td>\n",
       "    </tr>\n",
       "    <tr>\n",
       "      <th>4</th>\n",
       "      <td>0x168e8fde9837cabf:0x191f55de7e67db40</td>\n",
       "      <td>Khartoum</td>\n",
       "      <td>SD</td>\n",
       "    </tr>\n",
       "  </tbody>\n",
       "</table>\n",
       "</div>"
      ],
      "text/plain": [
       "                                 city_id    city_name country_code\n",
       "0                                  Total          NaN          NaN\n",
       "1  0x164b85cef5ab402d:0x8467b6b037a24d49  Addis Ababa           ET\n",
       "2  0x487a4d4c5226f5db:0xd9be143804fe6baa   Manchester           GB\n",
       "3  0x3568eb6de823cd35:0x35d8cb74247108a7        Busan           KR\n",
       "4  0x168e8fde9837cabf:0x191f55de7e67db40     Khartoum           SD"
      ]
     },
     "execution_count": 28,
     "metadata": {},
     "output_type": "execute_result"
    }
   ],
   "source": [
    "city_table.head()"
   ]
  },
  {
   "cell_type": "code",
   "execution_count": 30,
   "id": "c6ad0de4",
   "metadata": {},
   "outputs": [],
   "source": [
    "city_table.to_csv('../data/city_table',index=False)"
   ]
  },
  {
   "cell_type": "code",
   "execution_count": 34,
   "id": "34cc0059-6da2-4dbc-a4a6-d57ea9c448b4",
   "metadata": {},
   "outputs": [],
   "source": [
    "common_table = pd.read_csv('../youtube_data/Cities/Totals.csv')"
   ]
  },
  {
   "cell_type": "code",
   "execution_count": 35,
   "id": "3faa8d58-fe8c-4607-abed-4593aa9fa6f2",
   "metadata": {},
   "outputs": [
    {
     "data": {
      "text/html": [
       "<div>\n",
       "<style scoped>\n",
       "    .dataframe tbody tr th:only-of-type {\n",
       "        vertical-align: middle;\n",
       "    }\n",
       "\n",
       "    .dataframe tbody tr th {\n",
       "        vertical-align: top;\n",
       "    }\n",
       "\n",
       "    .dataframe thead th {\n",
       "        text-align: right;\n",
       "    }\n",
       "</style>\n",
       "<table border=\"1\" class=\"dataframe\">\n",
       "  <thead>\n",
       "    <tr style=\"text-align: right;\">\n",
       "      <th></th>\n",
       "      <th>date</th>\n",
       "      <th>views</th>\n",
       "    </tr>\n",
       "  </thead>\n",
       "  <tbody>\n",
       "    <tr>\n",
       "      <th>0</th>\n",
       "      <td>2020-06-28</td>\n",
       "      <td>1</td>\n",
       "    </tr>\n",
       "    <tr>\n",
       "      <th>1</th>\n",
       "      <td>2020-06-29</td>\n",
       "      <td>72</td>\n",
       "    </tr>\n",
       "    <tr>\n",
       "      <th>2</th>\n",
       "      <td>2020-06-30</td>\n",
       "      <td>76</td>\n",
       "    </tr>\n",
       "    <tr>\n",
       "      <th>3</th>\n",
       "      <td>2020-07-01</td>\n",
       "      <td>70</td>\n",
       "    </tr>\n",
       "    <tr>\n",
       "      <th>4</th>\n",
       "      <td>2020-07-02</td>\n",
       "      <td>57</td>\n",
       "    </tr>\n",
       "  </tbody>\n",
       "</table>\n",
       "</div>"
      ],
      "text/plain": [
       "         date  views\n",
       "0  2020-06-28      1\n",
       "1  2020-06-29     72\n",
       "2  2020-06-30     76\n",
       "3  2020-07-01     70\n",
       "4  2020-07-02     57"
      ]
     },
     "execution_count": 35,
     "metadata": {},
     "output_type": "execute_result"
    }
   ],
   "source": [
    "common_table.head()"
   ]
  },
  {
   "cell_type": "code",
   "execution_count": 36,
   "id": "bb2353de-ef7f-49c9-a9a2-9fa69731c174",
   "metadata": {},
   "outputs": [],
   "source": [
    "common_table.to_csv('../data/common_table',index=False)"
   ]
  },
  {
   "cell_type": "code",
   "execution_count": 38,
   "id": "2047eccf",
   "metadata": {},
   "outputs": [],
   "source": [
    "country_code = pd.read_csv('../youtube_data/Geography/Chart data.csv')"
   ]
  },
  {
   "cell_type": "code",
   "execution_count": 39,
   "id": "0f6bef1e",
   "metadata": {},
   "outputs": [
    {
     "data": {
      "text/html": [
       "<div>\n",
       "<style scoped>\n",
       "    .dataframe tbody tr th:only-of-type {\n",
       "        vertical-align: middle;\n",
       "    }\n",
       "\n",
       "    .dataframe tbody tr th {\n",
       "        vertical-align: top;\n",
       "    }\n",
       "\n",
       "    .dataframe thead th {\n",
       "        text-align: right;\n",
       "    }\n",
       "</style>\n",
       "<table border=\"1\" class=\"dataframe\">\n",
       "  <thead>\n",
       "    <tr style=\"text-align: right;\">\n",
       "      <th></th>\n",
       "      <th>Date</th>\n",
       "      <th>Geography</th>\n",
       "      <th>Views</th>\n",
       "    </tr>\n",
       "  </thead>\n",
       "  <tbody>\n",
       "    <tr>\n",
       "      <th>0</th>\n",
       "      <td>2020-06-28</td>\n",
       "      <td>BJ</td>\n",
       "      <td>0</td>\n",
       "    </tr>\n",
       "    <tr>\n",
       "      <th>1</th>\n",
       "      <td>2020-06-29</td>\n",
       "      <td>BJ</td>\n",
       "      <td>0</td>\n",
       "    </tr>\n",
       "    <tr>\n",
       "      <th>2</th>\n",
       "      <td>2020-06-30</td>\n",
       "      <td>BJ</td>\n",
       "      <td>0</td>\n",
       "    </tr>\n",
       "    <tr>\n",
       "      <th>3</th>\n",
       "      <td>2020-07-01</td>\n",
       "      <td>BJ</td>\n",
       "      <td>0</td>\n",
       "    </tr>\n",
       "    <tr>\n",
       "      <th>4</th>\n",
       "      <td>2020-07-02</td>\n",
       "      <td>BJ</td>\n",
       "      <td>0</td>\n",
       "    </tr>\n",
       "  </tbody>\n",
       "</table>\n",
       "</div>"
      ],
      "text/plain": [
       "         Date Geography  Views\n",
       "0  2020-06-28        BJ      0\n",
       "1  2020-06-29        BJ      0\n",
       "2  2020-06-30        BJ      0\n",
       "3  2020-07-01        BJ      0\n",
       "4  2020-07-02        BJ      0"
      ]
     },
     "execution_count": 39,
     "metadata": {},
     "output_type": "execute_result"
    }
   ],
   "source": [
    "country_code.head()"
   ]
  },
  {
   "cell_type": "code",
   "execution_count": null,
   "id": "8332cf07",
   "metadata": {},
   "outputs": [],
   "source": [
    "country_code.to_csv('../data/country_code',index=False)"
   ]
  },
  {
   "cell_type": "code",
   "execution_count": 40,
   "id": "239cc629",
   "metadata": {},
   "outputs": [],
   "source": [
    "device_chart = pd.read_csv('../youtube_data/Device type/Chart data.csv')"
   ]
  },
  {
   "cell_type": "code",
   "execution_count": 41,
   "id": "684f2379",
   "metadata": {},
   "outputs": [
    {
     "data": {
      "text/html": [
       "<div>\n",
       "<style scoped>\n",
       "    .dataframe tbody tr th:only-of-type {\n",
       "        vertical-align: middle;\n",
       "    }\n",
       "\n",
       "    .dataframe tbody tr th {\n",
       "        vertical-align: top;\n",
       "    }\n",
       "\n",
       "    .dataframe thead th {\n",
       "        text-align: right;\n",
       "    }\n",
       "</style>\n",
       "<table border=\"1\" class=\"dataframe\">\n",
       "  <thead>\n",
       "    <tr style=\"text-align: right;\">\n",
       "      <th></th>\n",
       "      <th>Date</th>\n",
       "      <th>Device type</th>\n",
       "      <th>Views</th>\n",
       "    </tr>\n",
       "  </thead>\n",
       "  <tbody>\n",
       "    <tr>\n",
       "      <th>0</th>\n",
       "      <td>2020-06-28</td>\n",
       "      <td>Computer</td>\n",
       "      <td>1</td>\n",
       "    </tr>\n",
       "    <tr>\n",
       "      <th>1</th>\n",
       "      <td>2020-06-29</td>\n",
       "      <td>Computer</td>\n",
       "      <td>49</td>\n",
       "    </tr>\n",
       "    <tr>\n",
       "      <th>2</th>\n",
       "      <td>2020-06-30</td>\n",
       "      <td>Computer</td>\n",
       "      <td>62</td>\n",
       "    </tr>\n",
       "    <tr>\n",
       "      <th>3</th>\n",
       "      <td>2020-07-01</td>\n",
       "      <td>Computer</td>\n",
       "      <td>46</td>\n",
       "    </tr>\n",
       "    <tr>\n",
       "      <th>4</th>\n",
       "      <td>2020-07-02</td>\n",
       "      <td>Computer</td>\n",
       "      <td>29</td>\n",
       "    </tr>\n",
       "  </tbody>\n",
       "</table>\n",
       "</div>"
      ],
      "text/plain": [
       "         Date Device type  Views\n",
       "0  2020-06-28    Computer      1\n",
       "1  2020-06-29    Computer     49\n",
       "2  2020-06-30    Computer     62\n",
       "3  2020-07-01    Computer     46\n",
       "4  2020-07-02    Computer     29"
      ]
     },
     "execution_count": 41,
     "metadata": {},
     "output_type": "execute_result"
    }
   ],
   "source": [
    "device_chart.head()"
   ]
  },
  {
   "cell_type": "code",
   "execution_count": 42,
   "id": "8087827b",
   "metadata": {},
   "outputs": [],
   "source": [
    "device_chart.to_csv('../data/device_chart',index=False)"
   ]
  },
  {
   "cell_type": "code",
   "execution_count": 46,
   "id": "8f0fb8d2",
   "metadata": {},
   "outputs": [],
   "source": [
    "sharing_service = pd.read_csv('../youtube_data/Sharing service/Chart data.csv')"
   ]
  },
  {
   "cell_type": "code",
   "execution_count": 47,
   "id": "f81dbc47",
   "metadata": {},
   "outputs": [
    {
     "data": {
      "text/html": [
       "<div>\n",
       "<style scoped>\n",
       "    .dataframe tbody tr th:only-of-type {\n",
       "        vertical-align: middle;\n",
       "    }\n",
       "\n",
       "    .dataframe tbody tr th {\n",
       "        vertical-align: top;\n",
       "    }\n",
       "\n",
       "    .dataframe thead th {\n",
       "        text-align: right;\n",
       "    }\n",
       "</style>\n",
       "<table border=\"1\" class=\"dataframe\">\n",
       "  <thead>\n",
       "    <tr style=\"text-align: right;\">\n",
       "      <th></th>\n",
       "      <th>Date</th>\n",
       "      <th>Sharing service</th>\n",
       "      <th>Shares</th>\n",
       "    </tr>\n",
       "  </thead>\n",
       "  <tbody>\n",
       "    <tr>\n",
       "      <th>0</th>\n",
       "      <td>2020-06-28</td>\n",
       "      <td>Facebook</td>\n",
       "      <td>0</td>\n",
       "    </tr>\n",
       "    <tr>\n",
       "      <th>1</th>\n",
       "      <td>2020-06-29</td>\n",
       "      <td>Facebook</td>\n",
       "      <td>0</td>\n",
       "    </tr>\n",
       "    <tr>\n",
       "      <th>2</th>\n",
       "      <td>2020-06-30</td>\n",
       "      <td>Facebook</td>\n",
       "      <td>0</td>\n",
       "    </tr>\n",
       "    <tr>\n",
       "      <th>3</th>\n",
       "      <td>2020-07-01</td>\n",
       "      <td>Facebook</td>\n",
       "      <td>0</td>\n",
       "    </tr>\n",
       "    <tr>\n",
       "      <th>4</th>\n",
       "      <td>2020-07-02</td>\n",
       "      <td>Facebook</td>\n",
       "      <td>0</td>\n",
       "    </tr>\n",
       "  </tbody>\n",
       "</table>\n",
       "</div>"
      ],
      "text/plain": [
       "         Date Sharing service  Shares\n",
       "0  2020-06-28        Facebook       0\n",
       "1  2020-06-29        Facebook       0\n",
       "2  2020-06-30        Facebook       0\n",
       "3  2020-07-01        Facebook       0\n",
       "4  2020-07-02        Facebook       0"
      ]
     },
     "execution_count": 47,
     "metadata": {},
     "output_type": "execute_result"
    }
   ],
   "source": [
    "sharing_service.head()"
   ]
  },
  {
   "cell_type": "code",
   "execution_count": null,
   "id": "cc8f717f",
   "metadata": {},
   "outputs": [],
   "source": [
    "data_ext = DataFrameManipulator(sharing_service)"
   ]
  },
  {
   "cell_type": "code",
   "execution_count": 48,
   "id": "5b62bbb5",
   "metadata": {},
   "outputs": [],
   "source": [
    "new_column_names = {'Sharing service': 'sharing_service','Date': 'date'}"
   ]
  },
  {
   "cell_type": "code",
   "execution_count": 43,
   "id": "6365e1f4",
   "metadata": {},
   "outputs": [],
   "source": [
    "sharing_service  = data_ext.rename_columns(sharing_service,new_column_names)"
   ]
  },
  {
   "cell_type": "code",
   "execution_count": 44,
   "id": "6d1c17f7",
   "metadata": {},
   "outputs": [
    {
     "data": {
      "text/html": [
       "<div>\n",
       "<style scoped>\n",
       "    .dataframe tbody tr th:only-of-type {\n",
       "        vertical-align: middle;\n",
       "    }\n",
       "\n",
       "    .dataframe tbody tr th {\n",
       "        vertical-align: top;\n",
       "    }\n",
       "\n",
       "    .dataframe thead th {\n",
       "        text-align: right;\n",
       "    }\n",
       "</style>\n",
       "<table border=\"1\" class=\"dataframe\">\n",
       "  <thead>\n",
       "    <tr style=\"text-align: right;\">\n",
       "      <th></th>\n",
       "      <th>date</th>\n",
       "      <th>sharing_service</th>\n",
       "      <th>Shares</th>\n",
       "    </tr>\n",
       "  </thead>\n",
       "  <tbody>\n",
       "    <tr>\n",
       "      <th>0</th>\n",
       "      <td>2020-06-28</td>\n",
       "      <td>Facebook</td>\n",
       "      <td>0</td>\n",
       "    </tr>\n",
       "    <tr>\n",
       "      <th>1</th>\n",
       "      <td>2020-06-29</td>\n",
       "      <td>Facebook</td>\n",
       "      <td>0</td>\n",
       "    </tr>\n",
       "    <tr>\n",
       "      <th>2</th>\n",
       "      <td>2020-06-30</td>\n",
       "      <td>Facebook</td>\n",
       "      <td>0</td>\n",
       "    </tr>\n",
       "    <tr>\n",
       "      <th>3</th>\n",
       "      <td>2020-07-01</td>\n",
       "      <td>Facebook</td>\n",
       "      <td>0</td>\n",
       "    </tr>\n",
       "    <tr>\n",
       "      <th>4</th>\n",
       "      <td>2020-07-02</td>\n",
       "      <td>Facebook</td>\n",
       "      <td>0</td>\n",
       "    </tr>\n",
       "  </tbody>\n",
       "</table>\n",
       "</div>"
      ],
      "text/plain": [
       "         date sharing_service  Shares\n",
       "0  2020-06-28        Facebook       0\n",
       "1  2020-06-29        Facebook       0\n",
       "2  2020-06-30        Facebook       0\n",
       "3  2020-07-01        Facebook       0\n",
       "4  2020-07-02        Facebook       0"
      ]
     },
     "execution_count": 44,
     "metadata": {},
     "output_type": "execute_result"
    }
   ],
   "source": [
    "sharing_service.head()"
   ]
  },
  {
   "cell_type": "code",
   "execution_count": 49,
   "id": "a16e17e4",
   "metadata": {},
   "outputs": [],
   "source": [
    "sharing_service.to_csv('../data/sharing_service',index=False)"
   ]
  }
 ],
 "metadata": {
  "kernelspec": {
   "display_name": "Python 3 (ipykernel)",
   "language": "python",
   "name": "python3"
  },
  "language_info": {
   "codemirror_mode": {
    "name": "ipython",
    "version": 3
   },
   "file_extension": ".py",
   "mimetype": "text/x-python",
   "name": "python",
   "nbconvert_exporter": "python",
   "pygments_lexer": "ipython3",
   "version": "3.9.18"
  }
 },
 "nbformat": 4,
 "nbformat_minor": 5
}
